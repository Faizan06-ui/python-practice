{
  "cells": [
    {
      "cell_type": "markdown",
      "metadata": {
        "id": "view-in-github",
        "colab_type": "text"
      },
      "source": [
        "<a href=\"https://colab.research.google.com/github/Faizan06-ui/python-practice/blob/main/Sales_project.ipynb\" target=\"_parent\"><img src=\"https://colab.research.google.com/assets/colab-badge.svg\" alt=\"Open In Colab\"/></a>"
      ]
    },
    {
      "cell_type": "markdown",
      "id": "3a1d4533",
      "metadata": {
        "id": "3a1d4533"
      },
      "source": [
        "# Applied Data Science with Python - Course-End Project\n",
        " # * Sales Analysis\n",
        "   By Faizan Khurshid\n",
        "\n"
      ]
    },
    {
      "cell_type": "code",
      "execution_count": 1,
      "id": "25c9cf36",
      "metadata": {
        "id": "25c9cf36"
      },
      "outputs": [],
      "source": [
        "import numpy as np\n",
        "import matplotlib.pyplot as plt\n",
        "import pandas as pd\n",
        "import seaborn as sns\n"
      ]
    },
    {
      "cell_type": "markdown",
      "id": "1f740679",
      "metadata": {
        "id": "1f740679"
      },
      "source": [
        "Load CSV"
      ]
    },
    {
      "cell_type": "code",
      "execution_count": null,
      "id": "4db91999",
      "metadata": {
        "id": "4db91999"
      },
      "outputs": [],
      "source": [
        "df=pd.read_csv('/Users/syedfaizan/Downloads/AusApparalSales4thQrt2020.csv')"
      ]
    },
    {
      "cell_type": "code",
      "execution_count": null,
      "id": "58b722a3",
      "metadata": {
        "id": "58b722a3",
        "outputId": "f1752e41-ed52-4a0c-f9a7-3dbbf5efb874"
      },
      "outputs": [
        {
          "name": "stdout",
          "output_type": "stream",
          "text": [
            "             Date        Time State     Group  Unit  Sales\n",
            "0      1-Oct-2020     Morning    WA      Kids     8  20000\n",
            "1      1-Oct-2020     Morning    WA       Men     8  20000\n",
            "2      1-Oct-2020     Morning    WA     Women     4  10000\n",
            "3      1-Oct-2020     Morning    WA   Seniors    15  37500\n",
            "4      1-Oct-2020   Afternoon    WA      Kids     3   7500\n",
            "...           ...         ...   ...       ...   ...    ...\n",
            "7555  30-Dec-2020   Afternoon   TAS   Seniors    14  35000\n",
            "7556  30-Dec-2020     Evening   TAS      Kids    15  37500\n",
            "7557  30-Dec-2020     Evening   TAS       Men    15  37500\n",
            "7558  30-Dec-2020     Evening   TAS     Women    11  27500\n",
            "7559  30-Dec-2020     Evening   TAS   Seniors    13  32500\n",
            "\n",
            "[7560 rows x 6 columns]\n"
          ]
        }
      ],
      "source": [
        "print(df)"
      ]
    },
    {
      "cell_type": "markdown",
      "id": "9cbaf48f",
      "metadata": {
        "id": "9cbaf48f"
      },
      "source": []
    },
    {
      "cell_type": "markdown",
      "id": "354c5eb5",
      "metadata": {
        "id": "354c5eb5"
      },
      "source": [
        "# 1.Data Wrangling\n"
      ]
    },
    {
      "cell_type": "code",
      "execution_count": null,
      "id": "71a55e39",
      "metadata": {
        "id": "71a55e39",
        "outputId": "0efe94e5-e106-4341-b055-dff1b5ed0dcf"
      },
      "outputs": [
        {
          "name": "stdout",
          "output_type": "stream",
          "text": [
            "Date     7560\n",
            "Time     7560\n",
            "State    7560\n",
            "Group    7560\n",
            "Unit     7560\n",
            "Sales    7560\n",
            "dtype: int64\n"
          ]
        }
      ],
      "source": [
        "print(df.notna().sum()) # returns the number of non-null values in each column"
      ]
    },
    {
      "cell_type": "code",
      "execution_count": null,
      "id": "77d939b7",
      "metadata": {
        "id": "77d939b7",
        "outputId": "9a178c20-9e91-4b6e-fee2-4e4e3a723552"
      },
      "outputs": [
        {
          "name": "stdout",
          "output_type": "stream",
          "text": [
            "Date     0\n",
            "Time     0\n",
            "State    0\n",
            "Group    0\n",
            "Unit     0\n",
            "Sales    0\n",
            "dtype: int64\n",
            "Date     0\n",
            "Time     0\n",
            "State    0\n",
            "Group    0\n",
            "Unit     0\n",
            "Sales    0\n",
            "dtype: int64\n"
          ]
        }
      ],
      "source": [
        "print(df.isna().sum()) # checking for missing values\n",
        "df = df.dropna()\n",
        "print(df.isna().sum())"
      ]
    },
    {
      "cell_type": "code",
      "execution_count": null,
      "id": "fa4e4997",
      "metadata": {
        "id": "fa4e4997",
        "outputId": "13eaa2cb-e055-4233-a0b1-4199bda9f17e"
      },
      "outputs": [
        {
          "data": {
            "text/plain": [
              "array(['1-Oct-2020', '2-Oct-2020', '3-Oct-2020', '4-Oct-2020',\n",
              "       '5-Oct-2020', '6-Oct-2020', '7-Oct-2020', '8-Oct-2020',\n",
              "       '9-Oct-2020', '10-Oct-2020', '11-Oct-2020', '12-Oct-2020',\n",
              "       '13-Oct-2020', '14-Oct-2020', '15-Oct-2020', '16-Oct-2020',\n",
              "       '17-Oct-2020', '18-Oct-2020', '19-Oct-2020', '20-Oct-2020',\n",
              "       '21-Oct-2020', '22-Oct-2020', '23-Oct-2020', '24-Oct-2020',\n",
              "       '25-Oct-2020', '26-Oct-2020', '27-Oct-2020', '28-Oct-2020',\n",
              "       '29-Oct-2020', '30-Oct-2020', '1-Nov-2020', '2-Nov-2020',\n",
              "       '3-Nov-2020', '4-Nov-2020', '5-Nov-2020', '6-Nov-2020',\n",
              "       '7-Nov-2020', '8-Nov-2020', '9-Nov-2020', '10-Nov-2020',\n",
              "       '11-Nov-2020', '12-Nov-2020', '13-Nov-2020', '14-Nov-2020',\n",
              "       '15-Nov-2020', '16-Nov-2020', '17-Nov-2020', '18-Nov-2020',\n",
              "       '19-Nov-2020', '20-Nov-2020', '21-Nov-2020', '22-Nov-2020',\n",
              "       '23-Nov-2020', '24-Nov-2020', '25-Nov-2020', '26-Nov-2020',\n",
              "       '27-Nov-2020', '28-Nov-2020', '29-Nov-2020', '30-Nov-2020',\n",
              "       '1-Dec-2020', '2-Dec-2020', '3-Dec-2020', '4-Dec-2020',\n",
              "       '5-Dec-2020', '6-Dec-2020', '7-Dec-2020', '8-Dec-2020',\n",
              "       '9-Dec-2020', '10-Dec-2020', '11-Dec-2020', '12-Dec-2020',\n",
              "       '13-Dec-2020', '14-Dec-2020', '15-Dec-2020', '16-Dec-2020',\n",
              "       '17-Dec-2020', '18-Dec-2020', '19-Dec-2020', '20-Dec-2020',\n",
              "       '21-Dec-2020', '22-Dec-2020', '23-Dec-2020', '24-Dec-2020',\n",
              "       '25-Dec-2020', '26-Dec-2020', '27-Dec-2020', '28-Dec-2020',\n",
              "       '29-Dec-2020', '30-Dec-2020'], dtype=object)"
            ]
          },
          "execution_count": 6,
          "metadata": {},
          "output_type": "execute_result"
        }
      ],
      "source": [
        "df['Date'].unique() # unique dates in the dataset"
      ]
    },
    {
      "cell_type": "code",
      "execution_count": null,
      "id": "243a38a9",
      "metadata": {
        "id": "243a38a9",
        "outputId": "eb6a0b13-0449-4192-89f2-f4c6b619d7be"
      },
      "outputs": [
        {
          "data": {
            "text/plain": [
              "Date\n",
              "1-Oct-2020     84\n",
              "8-Dec-2020     84\n",
              "6-Dec-2020     84\n",
              "5-Dec-2020     84\n",
              "4-Dec-2020     84\n",
              "               ..\n",
              "29-Oct-2020    84\n",
              "28-Oct-2020    84\n",
              "27-Oct-2020    84\n",
              "26-Oct-2020    84\n",
              "30-Dec-2020    84\n",
              "Name: count, Length: 90, dtype: int64"
            ]
          },
          "execution_count": 7,
          "metadata": {},
          "output_type": "execute_result"
        }
      ],
      "source": [
        "df['Date'].value_counts() # count of each date in the dataset\n"
      ]
    },
    {
      "cell_type": "code",
      "execution_count": null,
      "id": "aec9da7a",
      "metadata": {
        "id": "aec9da7a"
      },
      "outputs": [],
      "source": [
        "data_dates=pd.to_datetime(df['Date'].unique())\n",
        "data_dates_formatted = [i.strftime('%d-%b-%y') for i in data_dates]\n",
        "# create a list of formatted dates from the datasetdata_dates_formatted"
      ]
    },
    {
      "cell_type": "code",
      "execution_count": null,
      "id": "c02c1cd5",
      "metadata": {
        "id": "c02c1cd5",
        "outputId": "ea0749e0-1446-4a8e-d1d4-0300ba800cf8"
      },
      "outputs": [
        {
          "data": {
            "text/plain": [
              "['01-Oct-20',\n",
              " '02-Oct-20',\n",
              " '03-Oct-20',\n",
              " '04-Oct-20',\n",
              " '05-Oct-20',\n",
              " '06-Oct-20',\n",
              " '07-Oct-20',\n",
              " '08-Oct-20',\n",
              " '09-Oct-20',\n",
              " '10-Oct-20',\n",
              " '11-Oct-20',\n",
              " '12-Oct-20',\n",
              " '13-Oct-20',\n",
              " '14-Oct-20',\n",
              " '15-Oct-20',\n",
              " '16-Oct-20',\n",
              " '17-Oct-20',\n",
              " '18-Oct-20',\n",
              " '19-Oct-20',\n",
              " '20-Oct-20',\n",
              " '21-Oct-20',\n",
              " '22-Oct-20',\n",
              " '23-Oct-20',\n",
              " '24-Oct-20',\n",
              " '25-Oct-20',\n",
              " '26-Oct-20',\n",
              " '27-Oct-20',\n",
              " '28-Oct-20',\n",
              " '29-Oct-20',\n",
              " '30-Oct-20',\n",
              " '31-Oct-20',\n",
              " '01-Nov-20',\n",
              " '02-Nov-20',\n",
              " '03-Nov-20',\n",
              " '04-Nov-20',\n",
              " '05-Nov-20',\n",
              " '06-Nov-20',\n",
              " '07-Nov-20',\n",
              " '08-Nov-20',\n",
              " '09-Nov-20',\n",
              " '10-Nov-20',\n",
              " '11-Nov-20',\n",
              " '12-Nov-20',\n",
              " '13-Nov-20',\n",
              " '14-Nov-20',\n",
              " '15-Nov-20',\n",
              " '16-Nov-20',\n",
              " '17-Nov-20',\n",
              " '18-Nov-20',\n",
              " '19-Nov-20',\n",
              " '20-Nov-20',\n",
              " '21-Nov-20',\n",
              " '22-Nov-20',\n",
              " '23-Nov-20',\n",
              " '24-Nov-20',\n",
              " '25-Nov-20',\n",
              " '26-Nov-20',\n",
              " '27-Nov-20',\n",
              " '28-Nov-20',\n",
              " '29-Nov-20',\n",
              " '30-Nov-20',\n",
              " '01-Dec-20',\n",
              " '02-Dec-20',\n",
              " '03-Dec-20',\n",
              " '04-Dec-20',\n",
              " '05-Dec-20',\n",
              " '06-Dec-20',\n",
              " '07-Dec-20',\n",
              " '08-Dec-20',\n",
              " '09-Dec-20',\n",
              " '10-Dec-20',\n",
              " '11-Dec-20',\n",
              " '12-Dec-20',\n",
              " '13-Dec-20',\n",
              " '14-Dec-20',\n",
              " '15-Dec-20',\n",
              " '16-Dec-20',\n",
              " '17-Dec-20',\n",
              " '18-Dec-20',\n",
              " '19-Dec-20',\n",
              " '20-Dec-20',\n",
              " '21-Dec-20',\n",
              " '22-Dec-20',\n",
              " '23-Dec-20',\n",
              " '24-Dec-20',\n",
              " '25-Dec-20',\n",
              " '26-Dec-20',\n",
              " '27-Dec-20',\n",
              " '28-Dec-20',\n",
              " '29-Dec-20',\n",
              " '30-Dec-20',\n",
              " '31-Dec-20']"
            ]
          },
          "execution_count": 9,
          "metadata": {},
          "output_type": "execute_result"
        }
      ],
      "source": [
        "ideal_dates_formatted = [i.strftime('%d-%b-%y') for i in pd.date_range(start='2020-10-01', end='2020-12-31', freq='D')]\n",
        "ideal_dates_formatted # create a list of ideal dates from 1st Oct to 31st Dec 2020"
      ]
    },
    {
      "cell_type": "code",
      "execution_count": null,
      "id": "2a1f7392",
      "metadata": {
        "id": "2a1f7392",
        "outputId": "cb48b993-61b6-42cb-e1e2-c8193da953d2"
      },
      "outputs": [
        {
          "data": {
            "text/plain": [
              "{'31-Dec-20', '31-Oct-20'}"
            ]
          },
          "execution_count": 10,
          "metadata": {},
          "output_type": "execute_result"
        }
      ],
      "source": [
        "set(ideal_dates_formatted) - set(data_dates_formatted) # missing dates in the dataset"
      ]
    },
    {
      "cell_type": "code",
      "execution_count": null,
      "id": "e4eefd5b",
      "metadata": {
        "id": "e4eefd5b",
        "outputId": "211ae8f9-5805-42ef-de78-d514ad5a0c60"
      },
      "outputs": [
        {
          "data": {
            "text/plain": [
              "Date\n",
              "1-Oct-2020     84\n",
              "8-Dec-2020     84\n",
              "6-Dec-2020     84\n",
              "5-Dec-2020     84\n",
              "4-Dec-2020     84\n",
              "               ..\n",
              "29-Oct-2020    84\n",
              "28-Oct-2020    84\n",
              "27-Oct-2020    84\n",
              "26-Oct-2020    84\n",
              "30-Dec-2020    84\n",
              "Name: count, Length: 90, dtype: int64"
            ]
          },
          "execution_count": 11,
          "metadata": {},
          "output_type": "execute_result"
        }
      ],
      "source": [
        "df['Date'].value_counts() # count of each date in the dataset"
      ]
    },
    {
      "cell_type": "markdown",
      "id": "674f025e",
      "metadata": {
        "id": "674f025e"
      },
      "source": [
        "# 2. Data Analysis"
      ]
    },
    {
      "cell_type": "code",
      "execution_count": null,
      "id": "137867a8",
      "metadata": {
        "id": "137867a8",
        "outputId": "cf4ed10f-61e4-432c-9863-7c1fb6a0fc44"
      },
      "outputs": [
        {
          "data": {
            "text/html": [
              "<div>\n",
              "<style scoped>\n",
              "    .dataframe tbody tr th:only-of-type {\n",
              "        vertical-align: middle;\n",
              "    }\n",
              "\n",
              "    .dataframe tbody tr th {\n",
              "        vertical-align: top;\n",
              "    }\n",
              "\n",
              "    .dataframe thead th {\n",
              "        text-align: right;\n",
              "    }\n",
              "</style>\n",
              "<table border=\"1\" class=\"dataframe\">\n",
              "  <thead>\n",
              "    <tr style=\"text-align: right;\">\n",
              "      <th></th>\n",
              "      <th>Unit</th>\n",
              "      <th>Sales</th>\n",
              "    </tr>\n",
              "  </thead>\n",
              "  <tbody>\n",
              "    <tr>\n",
              "      <th>count</th>\n",
              "      <td>7560.000000</td>\n",
              "      <td>7560.000000</td>\n",
              "    </tr>\n",
              "    <tr>\n",
              "      <th>mean</th>\n",
              "      <td>18.005423</td>\n",
              "      <td>45013.558201</td>\n",
              "    </tr>\n",
              "    <tr>\n",
              "      <th>std</th>\n",
              "      <td>12.901403</td>\n",
              "      <td>32253.506944</td>\n",
              "    </tr>\n",
              "    <tr>\n",
              "      <th>min</th>\n",
              "      <td>2.000000</td>\n",
              "      <td>5000.000000</td>\n",
              "    </tr>\n",
              "    <tr>\n",
              "      <th>25%</th>\n",
              "      <td>8.000000</td>\n",
              "      <td>20000.000000</td>\n",
              "    </tr>\n",
              "    <tr>\n",
              "      <th>50%</th>\n",
              "      <td>14.000000</td>\n",
              "      <td>35000.000000</td>\n",
              "    </tr>\n",
              "    <tr>\n",
              "      <th>75%</th>\n",
              "      <td>26.000000</td>\n",
              "      <td>65000.000000</td>\n",
              "    </tr>\n",
              "    <tr>\n",
              "      <th>max</th>\n",
              "      <td>65.000000</td>\n",
              "      <td>162500.000000</td>\n",
              "    </tr>\n",
              "  </tbody>\n",
              "</table>\n",
              "</div>"
            ],
            "text/plain": [
              "              Unit          Sales\n",
              "count  7560.000000    7560.000000\n",
              "mean     18.005423   45013.558201\n",
              "std      12.901403   32253.506944\n",
              "min       2.000000    5000.000000\n",
              "25%       8.000000   20000.000000\n",
              "50%      14.000000   35000.000000\n",
              "75%      26.000000   65000.000000\n",
              "max      65.000000  162500.000000"
            ]
          },
          "execution_count": 12,
          "metadata": {},
          "output_type": "execute_result"
        }
      ],
      "source": [
        "df.describe() # Descriptive statistics of the DataFrame"
      ]
    },
    {
      "cell_type": "code",
      "execution_count": null,
      "id": "c10af17a",
      "metadata": {
        "id": "c10af17a",
        "outputId": "2555b966-6202-4ed0-aa86-a89b66fb4a7e"
      },
      "outputs": [
        {
          "data": {
            "text/html": [
              "<div>\n",
              "<style scoped>\n",
              "    .dataframe tbody tr th:only-of-type {\n",
              "        vertical-align: middle;\n",
              "    }\n",
              "\n",
              "    .dataframe tbody tr th {\n",
              "        vertical-align: top;\n",
              "    }\n",
              "\n",
              "    .dataframe thead th {\n",
              "        text-align: right;\n",
              "    }\n",
              "</style>\n",
              "<table border=\"1\" class=\"dataframe\">\n",
              "  <thead>\n",
              "    <tr style=\"text-align: right;\">\n",
              "      <th></th>\n",
              "      <th>Sales</th>\n",
              "    </tr>\n",
              "    <tr>\n",
              "      <th>Group</th>\n",
              "      <th></th>\n",
              "    </tr>\n",
              "  </thead>\n",
              "  <tbody>\n",
              "    <tr>\n",
              "      <th>Seniors</th>\n",
              "      <td>84037500</td>\n",
              "    </tr>\n",
              "    <tr>\n",
              "      <th>Kids</th>\n",
              "      <td>85072500</td>\n",
              "    </tr>\n",
              "    <tr>\n",
              "      <th>Women</th>\n",
              "      <td>85442500</td>\n",
              "    </tr>\n",
              "    <tr>\n",
              "      <th>Men</th>\n",
              "      <td>85750000</td>\n",
              "    </tr>\n",
              "  </tbody>\n",
              "</table>\n",
              "</div>"
            ],
            "text/plain": [
              "            Sales\n",
              "Group            \n",
              "Seniors  84037500\n",
              "Kids     85072500\n",
              "Women    85442500\n",
              "Men      85750000"
            ]
          },
          "execution_count": 13,
          "metadata": {},
          "output_type": "execute_result"
        }
      ],
      "source": [
        "df.groupby('Group').agg ({'Sales':'sum'}).sort_values('Sales') # Total sales by group, sorted in ascending order"
      ]
    },
    {
      "cell_type": "code",
      "execution_count": null,
      "id": "4c13501e",
      "metadata": {
        "id": "4c13501e",
        "outputId": "d9344e78-614e-4283-ee50-b96771dd3f4e"
      },
      "outputs": [
        {
          "data": {
            "text/html": [
              "<div>\n",
              "<style scoped>\n",
              "    .dataframe tbody tr th:only-of-type {\n",
              "        vertical-align: middle;\n",
              "    }\n",
              "\n",
              "    .dataframe tbody tr th {\n",
              "        vertical-align: top;\n",
              "    }\n",
              "\n",
              "    .dataframe thead th {\n",
              "        text-align: right;\n",
              "    }\n",
              "</style>\n",
              "<table border=\"1\" class=\"dataframe\">\n",
              "  <thead>\n",
              "    <tr style=\"text-align: right;\">\n",
              "      <th></th>\n",
              "      <th>Sales</th>\n",
              "    </tr>\n",
              "    <tr>\n",
              "      <th>State</th>\n",
              "      <th></th>\n",
              "    </tr>\n",
              "  </thead>\n",
              "  <tbody>\n",
              "    <tr>\n",
              "      <th>VIC</th>\n",
              "      <td>105565000</td>\n",
              "    </tr>\n",
              "    <tr>\n",
              "      <th>NSW</th>\n",
              "      <td>74970000</td>\n",
              "    </tr>\n",
              "    <tr>\n",
              "      <th>SA</th>\n",
              "      <td>58857500</td>\n",
              "    </tr>\n",
              "    <tr>\n",
              "      <th>QLD</th>\n",
              "      <td>33417500</td>\n",
              "    </tr>\n",
              "    <tr>\n",
              "      <th>TAS</th>\n",
              "      <td>22760000</td>\n",
              "    </tr>\n",
              "    <tr>\n",
              "      <th>NT</th>\n",
              "      <td>22580000</td>\n",
              "    </tr>\n",
              "    <tr>\n",
              "      <th>WA</th>\n",
              "      <td>22152500</td>\n",
              "    </tr>\n",
              "  </tbody>\n",
              "</table>\n",
              "</div>"
            ],
            "text/plain": [
              "           Sales\n",
              "State           \n",
              "VIC    105565000\n",
              "NSW     74970000\n",
              "SA      58857500\n",
              "QLD     33417500\n",
              "TAS     22760000\n",
              "NT      22580000\n",
              "WA      22152500"
            ]
          },
          "execution_count": 14,
          "metadata": {},
          "output_type": "execute_result"
        }
      ],
      "source": [
        "df.groupby('State').agg ({'Sales':'sum'}).sort_values('Sales', ascending=False) # total sales by state"
      ]
    },
    {
      "cell_type": "code",
      "execution_count": null,
      "id": "e4d94a96",
      "metadata": {
        "id": "e4d94a96",
        "outputId": "c3377039-a877-4aaf-aa9c-f0ef9c93dff9"
      },
      "outputs": [
        {
          "data": {
            "text/html": [
              "<div>\n",
              "<style scoped>\n",
              "    .dataframe tbody tr th:only-of-type {\n",
              "        vertical-align: middle;\n",
              "    }\n",
              "\n",
              "    .dataframe tbody tr th {\n",
              "        vertical-align: top;\n",
              "    }\n",
              "\n",
              "    .dataframe thead th {\n",
              "        text-align: right;\n",
              "    }\n",
              "</style>\n",
              "<table border=\"1\" class=\"dataframe\">\n",
              "  <thead>\n",
              "    <tr style=\"text-align: right;\">\n",
              "      <th></th>\n",
              "      <th>Date</th>\n",
              "      <th>Time</th>\n",
              "      <th>State</th>\n",
              "      <th>Group</th>\n",
              "      <th>Unit</th>\n",
              "      <th>Sales</th>\n",
              "      <th>Month</th>\n",
              "    </tr>\n",
              "  </thead>\n",
              "  <tbody>\n",
              "    <tr>\n",
              "      <th>0</th>\n",
              "      <td>1-Oct-2020</td>\n",
              "      <td>Morning</td>\n",
              "      <td>WA</td>\n",
              "      <td>Kids</td>\n",
              "      <td>8</td>\n",
              "      <td>20000</td>\n",
              "      <td>October</td>\n",
              "    </tr>\n",
              "    <tr>\n",
              "      <th>1</th>\n",
              "      <td>1-Oct-2020</td>\n",
              "      <td>Morning</td>\n",
              "      <td>WA</td>\n",
              "      <td>Men</td>\n",
              "      <td>8</td>\n",
              "      <td>20000</td>\n",
              "      <td>October</td>\n",
              "    </tr>\n",
              "    <tr>\n",
              "      <th>2</th>\n",
              "      <td>1-Oct-2020</td>\n",
              "      <td>Morning</td>\n",
              "      <td>WA</td>\n",
              "      <td>Women</td>\n",
              "      <td>4</td>\n",
              "      <td>10000</td>\n",
              "      <td>October</td>\n",
              "    </tr>\n",
              "    <tr>\n",
              "      <th>3</th>\n",
              "      <td>1-Oct-2020</td>\n",
              "      <td>Morning</td>\n",
              "      <td>WA</td>\n",
              "      <td>Seniors</td>\n",
              "      <td>15</td>\n",
              "      <td>37500</td>\n",
              "      <td>October</td>\n",
              "    </tr>\n",
              "    <tr>\n",
              "      <th>4</th>\n",
              "      <td>1-Oct-2020</td>\n",
              "      <td>Afternoon</td>\n",
              "      <td>WA</td>\n",
              "      <td>Kids</td>\n",
              "      <td>3</td>\n",
              "      <td>7500</td>\n",
              "      <td>October</td>\n",
              "    </tr>\n",
              "    <tr>\n",
              "      <th>...</th>\n",
              "      <td>...</td>\n",
              "      <td>...</td>\n",
              "      <td>...</td>\n",
              "      <td>...</td>\n",
              "      <td>...</td>\n",
              "      <td>...</td>\n",
              "      <td>...</td>\n",
              "    </tr>\n",
              "    <tr>\n",
              "      <th>7555</th>\n",
              "      <td>30-Dec-2020</td>\n",
              "      <td>Afternoon</td>\n",
              "      <td>TAS</td>\n",
              "      <td>Seniors</td>\n",
              "      <td>14</td>\n",
              "      <td>35000</td>\n",
              "      <td>December</td>\n",
              "    </tr>\n",
              "    <tr>\n",
              "      <th>7556</th>\n",
              "      <td>30-Dec-2020</td>\n",
              "      <td>Evening</td>\n",
              "      <td>TAS</td>\n",
              "      <td>Kids</td>\n",
              "      <td>15</td>\n",
              "      <td>37500</td>\n",
              "      <td>December</td>\n",
              "    </tr>\n",
              "    <tr>\n",
              "      <th>7557</th>\n",
              "      <td>30-Dec-2020</td>\n",
              "      <td>Evening</td>\n",
              "      <td>TAS</td>\n",
              "      <td>Men</td>\n",
              "      <td>15</td>\n",
              "      <td>37500</td>\n",
              "      <td>December</td>\n",
              "    </tr>\n",
              "    <tr>\n",
              "      <th>7558</th>\n",
              "      <td>30-Dec-2020</td>\n",
              "      <td>Evening</td>\n",
              "      <td>TAS</td>\n",
              "      <td>Women</td>\n",
              "      <td>11</td>\n",
              "      <td>27500</td>\n",
              "      <td>December</td>\n",
              "    </tr>\n",
              "    <tr>\n",
              "      <th>7559</th>\n",
              "      <td>30-Dec-2020</td>\n",
              "      <td>Evening</td>\n",
              "      <td>TAS</td>\n",
              "      <td>Seniors</td>\n",
              "      <td>13</td>\n",
              "      <td>32500</td>\n",
              "      <td>December</td>\n",
              "    </tr>\n",
              "  </tbody>\n",
              "</table>\n",
              "<p>7560 rows × 7 columns</p>\n",
              "</div>"
            ],
            "text/plain": [
              "             Date        Time State     Group  Unit  Sales     Month\n",
              "0      1-Oct-2020     Morning    WA      Kids     8  20000   October\n",
              "1      1-Oct-2020     Morning    WA       Men     8  20000   October\n",
              "2      1-Oct-2020     Morning    WA     Women     4  10000   October\n",
              "3      1-Oct-2020     Morning    WA   Seniors    15  37500   October\n",
              "4      1-Oct-2020   Afternoon    WA      Kids     3   7500   October\n",
              "...           ...         ...   ...       ...   ...    ...       ...\n",
              "7555  30-Dec-2020   Afternoon   TAS   Seniors    14  35000  December\n",
              "7556  30-Dec-2020     Evening   TAS      Kids    15  37500  December\n",
              "7557  30-Dec-2020     Evening   TAS       Men    15  37500  December\n",
              "7558  30-Dec-2020     Evening   TAS     Women    11  27500  December\n",
              "7559  30-Dec-2020     Evening   TAS   Seniors    13  32500  December\n",
              "\n",
              "[7560 rows x 7 columns]"
            ]
          },
          "execution_count": 15,
          "metadata": {},
          "output_type": "execute_result"
        }
      ],
      "source": [
        "df['Month'] = pd.to_datetime(df['Date']).dt.month_name()  # Extracting month names from the Date column\n",
        "df\n"
      ]
    },
    {
      "cell_type": "code",
      "execution_count": null,
      "id": "8c80ee52",
      "metadata": {
        "id": "8c80ee52",
        "outputId": "f790b437-c1bb-45b3-ff07-e6249b128944"
      },
      "outputs": [
        {
          "data": {
            "text/html": [
              "<div>\n",
              "<style scoped>\n",
              "    .dataframe tbody tr th:only-of-type {\n",
              "        vertical-align: middle;\n",
              "    }\n",
              "\n",
              "    .dataframe tbody tr th {\n",
              "        vertical-align: top;\n",
              "    }\n",
              "\n",
              "    .dataframe thead th {\n",
              "        text-align: right;\n",
              "    }\n",
              "</style>\n",
              "<table border=\"1\" class=\"dataframe\">\n",
              "  <thead>\n",
              "    <tr style=\"text-align: right;\">\n",
              "      <th></th>\n",
              "      <th>Date</th>\n",
              "      <th>Time</th>\n",
              "      <th>State</th>\n",
              "      <th>Group</th>\n",
              "      <th>Unit</th>\n",
              "      <th>Sales</th>\n",
              "      <th>Month</th>\n",
              "      <th>weekday</th>\n",
              "    </tr>\n",
              "  </thead>\n",
              "  <tbody>\n",
              "    <tr>\n",
              "      <th>0</th>\n",
              "      <td>1-Oct-2020</td>\n",
              "      <td>Morning</td>\n",
              "      <td>WA</td>\n",
              "      <td>Kids</td>\n",
              "      <td>8</td>\n",
              "      <td>20000</td>\n",
              "      <td>October</td>\n",
              "      <td>Thursday</td>\n",
              "    </tr>\n",
              "    <tr>\n",
              "      <th>1</th>\n",
              "      <td>1-Oct-2020</td>\n",
              "      <td>Morning</td>\n",
              "      <td>WA</td>\n",
              "      <td>Men</td>\n",
              "      <td>8</td>\n",
              "      <td>20000</td>\n",
              "      <td>October</td>\n",
              "      <td>Thursday</td>\n",
              "    </tr>\n",
              "    <tr>\n",
              "      <th>2</th>\n",
              "      <td>1-Oct-2020</td>\n",
              "      <td>Morning</td>\n",
              "      <td>WA</td>\n",
              "      <td>Women</td>\n",
              "      <td>4</td>\n",
              "      <td>10000</td>\n",
              "      <td>October</td>\n",
              "      <td>Thursday</td>\n",
              "    </tr>\n",
              "    <tr>\n",
              "      <th>3</th>\n",
              "      <td>1-Oct-2020</td>\n",
              "      <td>Morning</td>\n",
              "      <td>WA</td>\n",
              "      <td>Seniors</td>\n",
              "      <td>15</td>\n",
              "      <td>37500</td>\n",
              "      <td>October</td>\n",
              "      <td>Thursday</td>\n",
              "    </tr>\n",
              "    <tr>\n",
              "      <th>4</th>\n",
              "      <td>1-Oct-2020</td>\n",
              "      <td>Afternoon</td>\n",
              "      <td>WA</td>\n",
              "      <td>Kids</td>\n",
              "      <td>3</td>\n",
              "      <td>7500</td>\n",
              "      <td>October</td>\n",
              "      <td>Thursday</td>\n",
              "    </tr>\n",
              "    <tr>\n",
              "      <th>...</th>\n",
              "      <td>...</td>\n",
              "      <td>...</td>\n",
              "      <td>...</td>\n",
              "      <td>...</td>\n",
              "      <td>...</td>\n",
              "      <td>...</td>\n",
              "      <td>...</td>\n",
              "      <td>...</td>\n",
              "    </tr>\n",
              "    <tr>\n",
              "      <th>7555</th>\n",
              "      <td>30-Dec-2020</td>\n",
              "      <td>Afternoon</td>\n",
              "      <td>TAS</td>\n",
              "      <td>Seniors</td>\n",
              "      <td>14</td>\n",
              "      <td>35000</td>\n",
              "      <td>December</td>\n",
              "      <td>Wednesday</td>\n",
              "    </tr>\n",
              "    <tr>\n",
              "      <th>7556</th>\n",
              "      <td>30-Dec-2020</td>\n",
              "      <td>Evening</td>\n",
              "      <td>TAS</td>\n",
              "      <td>Kids</td>\n",
              "      <td>15</td>\n",
              "      <td>37500</td>\n",
              "      <td>December</td>\n",
              "      <td>Wednesday</td>\n",
              "    </tr>\n",
              "    <tr>\n",
              "      <th>7557</th>\n",
              "      <td>30-Dec-2020</td>\n",
              "      <td>Evening</td>\n",
              "      <td>TAS</td>\n",
              "      <td>Men</td>\n",
              "      <td>15</td>\n",
              "      <td>37500</td>\n",
              "      <td>December</td>\n",
              "      <td>Wednesday</td>\n",
              "    </tr>\n",
              "    <tr>\n",
              "      <th>7558</th>\n",
              "      <td>30-Dec-2020</td>\n",
              "      <td>Evening</td>\n",
              "      <td>TAS</td>\n",
              "      <td>Women</td>\n",
              "      <td>11</td>\n",
              "      <td>27500</td>\n",
              "      <td>December</td>\n",
              "      <td>Wednesday</td>\n",
              "    </tr>\n",
              "    <tr>\n",
              "      <th>7559</th>\n",
              "      <td>30-Dec-2020</td>\n",
              "      <td>Evening</td>\n",
              "      <td>TAS</td>\n",
              "      <td>Seniors</td>\n",
              "      <td>13</td>\n",
              "      <td>32500</td>\n",
              "      <td>December</td>\n",
              "      <td>Wednesday</td>\n",
              "    </tr>\n",
              "  </tbody>\n",
              "</table>\n",
              "<p>7560 rows × 8 columns</p>\n",
              "</div>"
            ],
            "text/plain": [
              "             Date        Time State     Group  Unit  Sales     Month  \\\n",
              "0      1-Oct-2020     Morning    WA      Kids     8  20000   October   \n",
              "1      1-Oct-2020     Morning    WA       Men     8  20000   October   \n",
              "2      1-Oct-2020     Morning    WA     Women     4  10000   October   \n",
              "3      1-Oct-2020     Morning    WA   Seniors    15  37500   October   \n",
              "4      1-Oct-2020   Afternoon    WA      Kids     3   7500   October   \n",
              "...           ...         ...   ...       ...   ...    ...       ...   \n",
              "7555  30-Dec-2020   Afternoon   TAS   Seniors    14  35000  December   \n",
              "7556  30-Dec-2020     Evening   TAS      Kids    15  37500  December   \n",
              "7557  30-Dec-2020     Evening   TAS       Men    15  37500  December   \n",
              "7558  30-Dec-2020     Evening   TAS     Women    11  27500  December   \n",
              "7559  30-Dec-2020     Evening   TAS   Seniors    13  32500  December   \n",
              "\n",
              "        weekday  \n",
              "0      Thursday  \n",
              "1      Thursday  \n",
              "2      Thursday  \n",
              "3      Thursday  \n",
              "4      Thursday  \n",
              "...         ...  \n",
              "7555  Wednesday  \n",
              "7556  Wednesday  \n",
              "7557  Wednesday  \n",
              "7558  Wednesday  \n",
              "7559  Wednesday  \n",
              "\n",
              "[7560 rows x 8 columns]"
            ]
          },
          "execution_count": 16,
          "metadata": {},
          "output_type": "execute_result"
        }
      ],
      "source": [
        "df['weekday']= pd.to_datetime(df['Date']).dt.day_name() # Extracting weekday names from the Date column\n",
        "df"
      ]
    },
    {
      "cell_type": "markdown",
      "id": "7959424e",
      "metadata": {
        "id": "7959424e"
      },
      "source": [
        "# 3. Data Visualization"
      ]
    },
    {
      "cell_type": "markdown",
      "id": "d3610450",
      "metadata": {
        "id": "d3610450"
      },
      "source": []
    },
    {
      "cell_type": "code",
      "execution_count": null,
      "id": "861863b9",
      "metadata": {
        "id": "861863b9",
        "outputId": "6ed76586-e680-4907-d83b-7a116261d14b"
      },
      "outputs": [
        {
          "data": {
            "text/plain": [
              "<Axes: xlabel='State'>"
            ]
          },
          "execution_count": 17,
          "metadata": {},
          "output_type": "execute_result"
        },
        {
          "data": {
            "image/png": "[encoded data removed]",
            "text/plain": [
              "<Figure size 1000x500 with 1 Axes>"
            ]
          },
          "metadata": {},
          "output_type": "display_data"
        }
      ],
      "source": [
        "df.groupby(['State','Group']).agg ({'Sales':'sum'}).unstack().plot(kind='bar' ,figsize=(10, 5),colormap='viridis')\n",
        "# Total sales by state and group, unstacked for better visualization"
      ]
    },
    {
      "cell_type": "code",
      "execution_count": null,
      "id": "804a9d1d",
      "metadata": {
        "id": "804a9d1d",
        "outputId": "9aa768b6-68a6-4373-ec03-189b69774117"
      },
      "outputs": [
        {
          "data": {
            "text/plain": [
              "<Axes: xlabel='Group'>"
            ]
          },
          "execution_count": 18,
          "metadata": {},
          "output_type": "execute_result"
        },
        {
          "data": {
            "image/png": "[encoded data removed]",
            "text/plain": [
              "<Figure size 1000x500 with 1 Axes>"
            ]
          },
          "metadata": {},
          "output_type": "display_data"
        }
      ],
      "source": [
        "df.groupby(['Group','State']).agg ({'Sales':'sum'}).unstack().plot(kind='bar' ,figsize=(10, 5),colormap='Set1')\n",
        "# Plotting sales by Group and state"
      ]
    },
    {
      "cell_type": "code",
      "execution_count": null,
      "id": "633d9f76",
      "metadata": {
        "id": "633d9f76",
        "outputId": "b788403c-6705-4b75-ecbf-077ab8a97ef7"
      },
      "outputs": [
        {
          "data": {
            "text/html": [
              "<div>\n",
              "<style scoped>\n",
              "    .dataframe tbody tr th:only-of-type {\n",
              "        vertical-align: middle;\n",
              "    }\n",
              "\n",
              "    .dataframe tbody tr th {\n",
              "        vertical-align: top;\n",
              "    }\n",
              "\n",
              "    .dataframe thead th {\n",
              "        text-align: right;\n",
              "    }\n",
              "</style>\n",
              "<table border=\"1\" class=\"dataframe\">\n",
              "  <thead>\n",
              "    <tr style=\"text-align: right;\">\n",
              "      <th></th>\n",
              "      <th></th>\n",
              "      <th>Sales</th>\n",
              "    </tr>\n",
              "    <tr>\n",
              "      <th>Group</th>\n",
              "      <th>Time</th>\n",
              "      <th></th>\n",
              "    </tr>\n",
              "  </thead>\n",
              "  <tbody>\n",
              "    <tr>\n",
              "      <th>Seniors</th>\n",
              "      <th>Evening</th>\n",
              "      <td>27267500</td>\n",
              "    </tr>\n",
              "    <tr>\n",
              "      <th>Kids</th>\n",
              "      <th>Evening</th>\n",
              "      <td>28052500</td>\n",
              "    </tr>\n",
              "    <tr>\n",
              "      <th>Seniors</th>\n",
              "      <th>Afternoon</th>\n",
              "      <td>28195000</td>\n",
              "    </tr>\n",
              "    <tr>\n",
              "      <th>Men</th>\n",
              "      <th>Evening</th>\n",
              "      <td>28222500</td>\n",
              "    </tr>\n",
              "    <tr>\n",
              "      <th>Women</th>\n",
              "      <th>Morning</th>\n",
              "      <td>28355000</td>\n",
              "    </tr>\n",
              "    <tr>\n",
              "      <th rowspan=\"2\" valign=\"top\">Kids</th>\n",
              "      <th>Afternoon</th>\n",
              "      <td>28502500</td>\n",
              "    </tr>\n",
              "    <tr>\n",
              "      <th>Morning</th>\n",
              "      <td>28517500</td>\n",
              "    </tr>\n",
              "    <tr>\n",
              "      <th rowspan=\"2\" valign=\"top\">Women</th>\n",
              "      <th>Afternoon</th>\n",
              "      <td>28542500</td>\n",
              "    </tr>\n",
              "    <tr>\n",
              "      <th>Evening</th>\n",
              "      <td>28545000</td>\n",
              "    </tr>\n",
              "    <tr>\n",
              "      <th>Seniors</th>\n",
              "      <th>Morning</th>\n",
              "      <td>28575000</td>\n",
              "    </tr>\n",
              "    <tr>\n",
              "      <th rowspan=\"2\" valign=\"top\">Men</th>\n",
              "      <th>Morning</th>\n",
              "      <td>28760000</td>\n",
              "    </tr>\n",
              "    <tr>\n",
              "      <th>Afternoon</th>\n",
              "      <td>28767500</td>\n",
              "    </tr>\n",
              "  </tbody>\n",
              "</table>\n",
              "</div>"
            ],
            "text/plain": [
              "                      Sales\n",
              "Group   Time               \n",
              "Seniors Evening    27267500\n",
              "Kids    Evening    28052500\n",
              "Seniors Afternoon  28195000\n",
              "Men     Evening    28222500\n",
              "Women   Morning    28355000\n",
              "Kids    Afternoon  28502500\n",
              "        Morning    28517500\n",
              "Women   Afternoon  28542500\n",
              "        Evening    28545000\n",
              "Seniors Morning    28575000\n",
              "Men     Morning    28760000\n",
              "        Afternoon  28767500"
            ]
          },
          "execution_count": 19,
          "metadata": {},
          "output_type": "execute_result"
        }
      ],
      "source": [
        "df.groupby(['Group','Time']).agg ({'Sales':'sum'}).sort_values('Sales') #Grouping sales by Time"
      ]
    },
    {
      "cell_type": "code",
      "execution_count": null,
      "id": "313f829c",
      "metadata": {
        "id": "313f829c",
        "outputId": "264e8db8-a670-4cf0-e680-2700193939d0"
      },
      "outputs": [
        {
          "data": {
            "text/plain": [
              "<Axes: xlabel='Group'>"
            ]
          },
          "execution_count": 20,
          "metadata": {},
          "output_type": "execute_result"
        },
        {
          "data": {
            "image/png": "[encoded data removed]",
            "text/plain": [
              "<Figure size 800x300 with 1 Axes>"
            ]
          },
          "metadata": {},
          "output_type": "display_data"
        }
      ],
      "source": [
        "df.groupby(['Group','Time']).agg ({'Sales':'sum'}).unstack().plot(kind='bar' ,figsize=(8, 3))\n",
        " # plotting sales by Time"
      ]
    },
    {
      "cell_type": "code",
      "execution_count": null,
      "id": "c916acbb",
      "metadata": {
        "id": "c916acbb",
        "outputId": "16054dac-8a53-4b9b-e000-b0663d41713c"
      },
      "outputs": [
        {
          "data": {
            "text/plain": [
              "<Axes: xlabel='None,Month'>"
            ]
          },
          "execution_count": 21,
          "metadata": {},
          "output_type": "execute_result"
        },
        {
          "data": {
            "image/png": "[encoded data removed]",
            "text/plain": [
              "<Figure size 800x300 with 1 Axes>"
            ]
          },
          "metadata": {},
          "output_type": "display_data"
        }
      ],
      "source": [
        "df.groupby(['Month']).agg ({'Sales':'sum'}).unstack().plot(kind='bar' ,figsize=(8, 3),colormap='plasma')\n",
        "#  plotting sales by Month"
      ]
    },
    {
      "cell_type": "code",
      "execution_count": null,
      "id": "08b34c0f",
      "metadata": {
        "id": "08b34c0f",
        "outputId": "325ac2be-a979-4219-c079-bf447b0ef42c"
      },
      "outputs": [
        {
          "data": {
            "text/plain": [
              "<Axes: xlabel='None,weekday'>"
            ]
          },
          "execution_count": 22,
          "metadata": {},
          "output_type": "execute_result"
        },
        {
          "data": {
            "image/png": "[encoded data removed]",
            "text/plain": [
              "<Figure size 800x300 with 1 Axes>"
            ]
          },
          "metadata": {},
          "output_type": "display_data"
        }
      ],
      "source": [
        "df.groupby(['weekday']).agg ({'Sales':'sum'}).unstack().plot(kind='bar' ,figsize=(8, 3),color='y')\n",
        "#plotting sales by weekday"
      ]
    },
    {
      "cell_type": "code",
      "execution_count": null,
      "id": "8dcd605d",
      "metadata": {
        "id": "8dcd605d",
        "outputId": "1ee09b19-0ae8-413d-90b8-c1809a496bb4"
      },
      "outputs": [
        {
          "data": {
            "text/plain": [
              "<Axes: xlabel='State'>"
            ]
          },
          "execution_count": 23,
          "metadata": {},
          "output_type": "execute_result"
        },
        {
          "data": {
            "image/png": "[encoded data removed]",
            "text/plain": [
              "<Figure size 640x480 with 1 Axes>"
            ]
          },
          "metadata": {},
          "output_type": "display_data"
        }
      ],
      "source": [
        "df.groupby('State').agg ({'Sales':'sum'}).sort_values('Sales', ascending=False).plot(kind='bar',color='cyan',width=0.5)\n",
        "# plotting the total sales by state"
      ]
    },
    {
      "cell_type": "markdown",
      "id": "ef7991bc",
      "metadata": {
        "id": "ef7991bc"
      },
      "source": [
        "# C. Recommendation of the chosen package\n",
        "I have chosen Pandas, matplotlib and seaborn libraries for this project:\n",
        "\n",
        "  * Pandas allows me to generate plots directly from DataFrames using .plot(). This removes the need to convert data into arrays, making the workflow straightforward.\n",
        "\n",
        "* Pandas plotting is excellent for generating quick line charts, bar charts, and area plots that help in understanding Sales.\n",
        "- While Seaborn handles most statistical plots, Matplotlib is used for **fine-tuning visualizations** (titles, labels, rotation of axes, subplots).  \n",
        "- The combination of Seaborn + Matplotlib ensures that the dashboard is both **insightful** and **presentable**."
      ]
    },
    {
      "cell_type": "markdown",
      "id": "25318d3d",
      "metadata": {
        "id": "25318d3d"
      },
      "source": [
        "# Box Plot"
      ]
    },
    {
      "cell_type": "code",
      "execution_count": null,
      "id": "6b7b8abd",
      "metadata": {
        "id": "6b7b8abd",
        "outputId": "33de79bb-5fa0-4c9e-d3da-b904e45db17c"
      },
      "outputs": [
        {
          "data": {
            "text/plain": [
              "<Axes: >"
            ]
          },
          "execution_count": 24,
          "metadata": {},
          "output_type": "execute_result"
        },
        {
          "data": {
            "image/png": "[encoded data removed]",
            "text/plain": [
              "<Figure size 640x480 with 1 Axes>"
            ]
          },
          "metadata": {},
          "output_type": "display_data"
        }
      ],
      "source": [
        "sns.boxplot(data=df,color='aqua') # Boxplot of the dataset to visualize the distribution"
      ]
    },
    {
      "cell_type": "markdown",
      "id": "b24bdf42",
      "metadata": {
        "id": "b24bdf42"
      },
      "source": [
        "# Histogram of sales distribution"
      ]
    },
    {
      "cell_type": "markdown",
      "id": "46a2c2b9",
      "metadata": {
        "id": "46a2c2b9"
      },
      "source": []
    },
    {
      "cell_type": "code",
      "execution_count": null,
      "id": "3b670a0a",
      "metadata": {
        "id": "3b670a0a",
        "outputId": "7edde114-15c5-4bc3-9ecd-a5626c5a2319"
      },
      "outputs": [
        {
          "data": {
            "text/plain": [
              "Text(0.5, 1.0, 'Sales Distribution')"
            ]
          },
          "execution_count": 25,
          "metadata": {},
          "output_type": "execute_result"
        },
        {
          "data": {
            "image/png": "[encoded data removed]",
            "text/plain": [
              "<Figure size 640x480 with 1 Axes>"
            ]
          },
          "metadata": {},
          "output_type": "display_data"
        }
      ],
      "source": [
        "sns.histplot(df['Sales'], kde=True) # Plotting sales distribution with a histogram and KDE\n",
        "plt.title(\"Sales Distribution\")"
      ]
    },
    {
      "cell_type": "markdown",
      "id": "702d6942",
      "metadata": {
        "id": "702d6942"
      },
      "source": []
    }
  ],
  "metadata": {
    "kernelspec": {
      "display_name": "Python [conda env:base] *",
      "language": "python",
      "name": "conda-base-py"
    },
    "language_info": {
      "codemirror_mode": {
        "name": "ipython",
        "version": 3
      },
      "file_extension": ".py",
      "mimetype": "text/x-python",
      "name": "python",
      "nbconvert_exporter": "python",
      "pygments_lexer": "ipython3",
      "version": "3.13.5"
    },
    "colab": {
      "provenance": [],
      "include_colab_link": true
    }
  },
  "nbformat": 4,
  "nbformat_minor": 5
}